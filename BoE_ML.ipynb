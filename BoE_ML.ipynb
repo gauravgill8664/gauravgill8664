{
 "cells": [
  {
   "cell_type": "code",
   "execution_count": 455,
   "metadata": {},
   "outputs": [],
   "source": [
    "import pandas as pd\n",
    "import numpy as np\n",
    "import openpyxl\n",
    "import warnings\n",
    "warnings.filterwarnings(\"ignore\")\n",
    "file_path = r\"C:\\Users\\mrjoj\\OneDrive\\Desktop\\008272 - Analyst Data Science - Technical Assessment - Data.xlsx\""
   ]
  },
  {
   "cell_type": "code",
   "execution_count": 463,
   "metadata": {},
   "outputs": [
    {
     "name": "stdout",
     "output_type": "stream",
     "text": [
      "['Dataset 1 - General', 'Dataset 2 - Underwriting', 'Data General T', 'Data Underwriting T', 'joined_data', 'TS_Data']\n"
     ]
    }
   ],
   "source": [
    "workbook = openpyxl.load_workbook(file_path)\n",
    "print(workbook.sheetnames)"
   ]
  },
  {
   "attachments": {},
   "cell_type": "markdown",
   "metadata": {},
   "source": [
    "K-Means Clustering (Joined Data is picked after EDA)"
   ]
  },
  {
   "cell_type": "code",
   "execution_count": 487,
   "metadata": {},
   "outputs": [],
   "source": [
    "joined_data = pd.read_excel(file_path,sheet_name='joined_data',index_col=[0])"
   ]
  },
  {
   "cell_type": "code",
   "execution_count": 488,
   "metadata": {},
   "outputs": [],
   "source": [
    "### Selecting Columns of Interest\n",
    "\n",
    "data_for_clustering = joined_data[['Mean GWP (£m)','Mean NWP (£m)','Mean SCR Ratio','Mean Gross Claims Incurred','Mean Net Combined Ratio','Mean Total Assets (£m)',\n",
    "'Mean Total Liabilities','Mean EoF SCR']]\n",
    "\n",
    "## Rounding up the ratios\n",
    "data_for_clustering['Mean SCR Ratio'] = data_for_clustering['Mean SCR Ratio'].astype(float).round(2)\n",
    "data_for_clustering['Mean EoF SCR'] = data_for_clustering['Mean EoF SCR'].astype(float).round(2)"
   ]
  },
  {
   "cell_type": "code",
   "execution_count": 541,
   "metadata": {},
   "outputs": [
    {
     "name": "stdout",
     "output_type": "stream",
     "text": [
      "Silhouette score: 0.65\n",
      "CH score: 77.13\n"
     ]
    }
   ],
   "source": [
    "from sklearn.cluster import KMeans\n",
    "from sklearn.preprocessing import StandardScaler\n",
    "from sklearn.pipeline import Pipeline\n",
    "from sklearn.model_selection import GridSearchCV\n",
    "from sklearn.metrics import silhouette_score, calinski_harabasz_score\n",
    "\n",
    "# Load the data\n",
    "df = data_for_clustering\n",
    "\n",
    "# Scale the data using StandardScaler\n",
    "scaler = StandardScaler()\n",
    "df_scaled = scaler.fit_transform(df)\n",
    "\n",
    "# Define the k-means clustering pipeline\n",
    "pipeline = Pipeline(steps=[('kmeans', KMeans())])\n",
    "\n",
    "# Define the hyperparameter grid to search\n",
    "param_grid = {'kmeans__n_clusters': np.arange(1,3)}\n",
    "\n",
    "# Perform hyperparameter optimization using GridSearchCV\n",
    "grid = GridSearchCV(pipeline, param_grid, cv=5)\n",
    "grid.fit(df_scaled)\n",
    "\n",
    "# Get the best number of clusters\n",
    "n_clusters = grid.best_params_['kmeans__n_clusters']\n",
    "\n",
    "# Train the k-means model with the best number of clusters\n",
    "kmeans = KMeans(n_clusters=n_clusters)\n",
    "kmeans.fit(df_scaled)\n",
    "\n",
    "# Predict the cluster labels\n",
    "labels = kmeans.predict(df_scaled)\n",
    "\n",
    "# Calculate the silhouette score\n",
    "silhouette_score = silhouette_score(df_scaled, labels)\n",
    "print(\"Silhouette score: {:.2f}\".format(silhouette_score))\n",
    "\n",
    "# Calculate the CH score\n",
    "ch_score = calinski_harabasz_score(df_scaled, labels)\n",
    "print(\"CH score: {:.2f}\".format(ch_score))"
   ]
  },
  {
   "cell_type": "code",
   "execution_count": 542,
   "metadata": {},
   "outputs": [
    {
     "data": {
      "text/plain": [
       "2"
      ]
     },
     "execution_count": 542,
     "metadata": {},
     "output_type": "execute_result"
    }
   ],
   "source": [
    "grid.best_params_['kmeans__n_clusters']"
   ]
  },
  {
   "attachments": {},
   "cell_type": "markdown",
   "metadata": {},
   "source": [
    "Random Forest Classifier"
   ]
  },
  {
   "cell_type": "code",
   "execution_count": 544,
   "metadata": {},
   "outputs": [],
   "source": [
    "# Define the threshold for determining if a firm deviates significantly from the average\n",
    "threshold = 0.25  # Increase the threshold as desired\n",
    "\n",
    "# Calculate the mean and standard deviation of the columns \"Mean GWP (£m)\" and \"Mean EoF SCR\"\n",
    "mean_gwp = np.mean(joined_data[\"Mean GWP (£m)\"])\n",
    "std_gwp = np.std(joined_data[\"Mean GWP (£m)\"])\n",
    "\n",
    "mean_ncr = np.mean(joined_data['Mean EoF SCR'])\n",
    "std_ncr = np.std(joined_data['Mean EoF SCR'])\n",
    "\n",
    "# Create a new column \"Attention\" based on the deviation of \"Mean GWP (£m)\" and \"Mean EoF SCR\" from their means\n",
    "joined_data[\"Attention\"] = np.where(((joined_data[\"Mean GWP (£m)\"] - mean_gwp) > threshold * std_gwp) |\n",
    "                                     ((joined_data['Mean EoF SCR'] - mean_ncr) > threshold * std_ncr), 1, 0)\n"
   ]
  },
  {
   "cell_type": "code",
   "execution_count": 545,
   "metadata": {},
   "outputs": [],
   "source": [
    "data_for_random_forest = joined_data[['Mean GWP (£m)','Mean NWP (£m)','Mean SCR Ratio','Mean Gross Claims Incurred','Mean Net Combined Ratio','Mean Total Assets (£m)',\n",
    "'Mean Total Liabilities','Mean EoF SCR','Mean Total Assets (£m)', 'Mean Total Liabilities','Mean BEL Inc TPs',\n",
    "       'Mean Net BEL Inc TPs', 'Mean Pure Gross Claims Ratio',\n",
    "       'Mean Net Expense Ratio', 'Mean Gross Expense Ratio',\n",
    "       'Mean Gross Combined Ratio','Gross claims incurred (£m) to Gross claims incurred (£m).1',\n",
    "       'Gross claims incurred (£m).1 to Gross claims incurred (£m).2',\n",
    "       'Gross claims incurred (£m).2 to Gross claims incurred (£m).3',\n",
    "       'Gross claims incurred (£m).3 to Gross claims incurred (£m).4',\n",
    "       'GWP (£m).1 to GWP (£m).2', 'GWP (£m).2 to GWP (£m).3',\n",
    "       'GWP (£m).3 to GWP (£m).4', 'NWP (£m)  to NWP (£m) .1',\n",
    "       'NWP (£m) .1 to NWP (£m) .2', 'NWP (£m) .2 to NWP (£m) .3',\n",
    "       'NWP (£m) .3 to NWP (£m) .4','Attention']]"
   ]
  },
  {
   "cell_type": "code",
   "execution_count": 546,
   "metadata": {},
   "outputs": [
    {
     "name": "stdout",
     "output_type": "stream",
     "text": [
      "Accuracy: 91.49%\n",
      "Precision: 90.91%\n",
      "Recall: 76.92%\n",
      "F1 Score: 83.33%\n",
      "AUC-ROC: 86.99%\n"
     ]
    }
   ],
   "source": [
    "from sklearn.decomposition import PCA\n",
    "from sklearn.ensemble import RandomForestClassifier\n",
    "from sklearn.metrics import accuracy_score, precision_score, recall_score, f1_score, roc_auc_score4\n",
    "from sklearn.model_selection import train_test_split\n",
    "\n",
    "\n",
    "# Separate the features and target column\n",
    "X = data_for_random_forest.drop('Attention', axis=1)\n",
    "y = data_for_random_forest['Attention']\n",
    "\n",
    "# Perform PCA on the dataset\n",
    "pca = PCA(n_components=10)\n",
    "X_pca = pca.fit_transform(X)\n",
    "\n",
    "# Split the data into training and testing sets\n",
    "X_train, X_test, y_train, y_test = train_test_split(X_pca, y, test_size=0.25, random_state=0)\n",
    "\n",
    "# Build the Random Forest Classifier\n",
    "clf = RandomForestClassifier()\n",
    "\n",
    "# Define the hyperparameters to tune\n",
    "param_grid = {\n",
    "    'n_estimators': [100, 200, 500],\n",
    "    'max_depth': [3, 5, 10,15],\n",
    "    'min_samples_leaf': [1, 5,10,15]\n",
    "}\n",
    "\n",
    "# Perform hyperparameter optimization using GridSearchCV\n",
    "grid_search = GridSearchCV(clf, param_grid, cv=5)\n",
    "grid_search.fit(X_train, y_train)\n",
    "\n",
    "# Select the best hyperparameters\n",
    "best_params = grid_search.best_params_\n",
    "\n",
    "# Train the final Random Forest model using the best hyperparameters\n",
    "clf = RandomForestClassifier(**best_params)\n",
    "clf.fit(X_train, y_train)\n",
    "\n",
    "# Evaluate the performance of the model on the test set\n",
    "y_pred = clf.predict(X_test)\n",
    "\n",
    "accuracy = accuracy_score(y_test, y_pred)\n",
    "precision = precision_score(y_test, y_pred)\n",
    "recall = recall_score(y_test, y_pred)\n",
    "f1 = f1_score(y_test, y_pred)\n",
    "auc = roc_auc_score(y_test, y_pred)\n",
    "\n",
    "print(\"Accuracy: {:.2f}%\".format(accuracy*100))\n",
    "print(\"Precision: {:.2f}%\".format(precision*100))\n",
    "print(\"Recall: {:.2f}%\".format(recall*100))\n",
    "print(\"F1 Score: {:.2f}%\".format(f1*100))\n",
    "print(\"AUC-ROC: {:.2f}%\".format(auc*100))\n"
   ]
  },
  {
   "cell_type": "code",
   "execution_count": 543,
   "metadata": {},
   "outputs": [
    {
     "data": {
      "image/png": "[encoded data removed]",
      "text/plain": [
       "<Figure size 640x480 with 1 Axes>"
      ]
     },
     "metadata": {},
     "output_type": "display_data"
    }
   ],
   "source": [
    "import matplotlib.pyplot as plt\n",
    "from sklearn.metrics import roc_auc_score, roc_curve\n",
    "\n",
    "# Calculate the AUC-ROC score\n",
    "auc = roc_auc_score(y_test, y_pred)\n",
    "\n",
    "# Plot the ROC curve\n",
    "fpr, tpr, thresholds = roc_curve(y_test, y_pred)\n",
    "plt.plot(fpr, tpr, label='AUC-ROC (area = %0.2f)' % auc)\n",
    "plt.plot([0, 1], [0, 1],'r--')\n",
    "plt.xlim([0.0, 1.0])\n",
    "plt.ylim([0.0, 1.05])\n",
    "plt.xlabel('False Positive Rate')\n",
    "plt.ylabel('True Positive Rate')\n",
    "plt.title('Receiver Operating Characteristic')\n",
    "plt.legend(loc=\"lower right\")\n",
    "plt.show()"
   ]
  },
  {
   "attachments": {},
   "cell_type": "markdown",
   "metadata": {},
   "source": [
    "Time Series Analysis"
   ]
  },
  {
   "cell_type": "code",
   "execution_count": 373,
   "metadata": {},
   "outputs": [
    {
     "name": "stdout",
     "output_type": "stream",
     "text": [
      "['Dataset 1 - General', 'Dataset 2 - Underwriting', 'Data General T', 'Data Underwriting T', 'joined_data', 'TS_Data']\n"
     ]
    }
   ],
   "source": [
    "workbook = openpyxl.load_workbook(file_path)\n",
    "print(workbook.sheetnames)"
   ]
  },
  {
   "cell_type": "code",
   "execution_count": 547,
   "metadata": {},
   "outputs": [],
   "source": [
    "#Import the data from the specified sheet in the excel file\n",
    "Joined_Time_Series_Sums_T = pd.read_excel(file_path,sheet_name='TS_Data')\n",
    "\n",
    "#Remove the \"YE\" prefix from the \"Year\" column\n",
    "Joined_Time_Series_Sums_T[\"Year\"] = Joined_Time_Series_Sums_T[\"Year\"].str.replace(\"YE\", \"\")\n",
    "\n",
    "#Store the dataframe in a new variable for convenience\n",
    "df = Joined_Time_Series_Sums_T\n",
    "\n",
    "#Convert the \"Year\" column to a datetime data type\n",
    "df['Year'] = pd.to_datetime(df['Year'], format='%Y')\n",
    "\n",
    "#Set the \"Year\" column as the index of the dataframe\n",
    "df.set_index('Year', inplace=True)"
   ]
  },
  {
   "cell_type": "code",
   "execution_count": 438,
   "metadata": {},
   "outputs": [
    {
     "data": {
      "text/html": [
       "<div>\n",
       "<style scoped>\n",
       "    .dataframe tbody tr th:only-of-type {\n",
       "        vertical-align: middle;\n",
       "    }\n",
       "\n",
       "    .dataframe tbody tr th {\n",
       "        vertical-align: top;\n",
       "    }\n",
       "\n",
       "    .dataframe thead th {\n",
       "        text-align: right;\n",
       "    }\n",
       "</style>\n",
       "<table border=\"1\" class=\"dataframe\">\n",
       "  <thead>\n",
       "    <tr style=\"text-align: right;\">\n",
       "      <th></th>\n",
       "      <th>NWP (£m)</th>\n",
       "      <th>SCR (£m)</th>\n",
       "      <th>EoF for SCR (£m)</th>\n",
       "      <th>GWP (£m)</th>\n",
       "      <th>Total assets (£m)</th>\n",
       "      <th>Total liabilities (£m)</th>\n",
       "      <th>Excess of assets over liabilities (£m) [= equity]</th>\n",
       "      <th>Gross claims incurred (£m)</th>\n",
       "      <th>Gross BEL (inc. TPs as whole, pre-TMTP) (£m)</th>\n",
       "      <th>Net BEL (inc. TPs as a whole, pre-TMTP) (£m)</th>\n",
       "      <th>Pure net claims ratio</th>\n",
       "      <th>Net expense ratio</th>\n",
       "      <th>Net combined ratio</th>\n",
       "      <th>Pure gross claims ratio</th>\n",
       "      <th>Gross expense ratio</th>\n",
       "      <th>Gross combined ratio</th>\n",
       "      <th>SCR coverage ratio</th>\n",
       "    </tr>\n",
       "    <tr>\n",
       "      <th>Year</th>\n",
       "      <th></th>\n",
       "      <th></th>\n",
       "      <th></th>\n",
       "      <th></th>\n",
       "      <th></th>\n",
       "      <th></th>\n",
       "      <th></th>\n",
       "      <th></th>\n",
       "      <th></th>\n",
       "      <th></th>\n",
       "      <th></th>\n",
       "      <th></th>\n",
       "      <th></th>\n",
       "      <th></th>\n",
       "      <th></th>\n",
       "      <th></th>\n",
       "      <th></th>\n",
       "    </tr>\n",
       "  </thead>\n",
       "  <tbody>\n",
       "    <tr>\n",
       "      <th>2016-01-01</th>\n",
       "      <td>10685.823360</td>\n",
       "      <td>3812.152794</td>\n",
       "      <td>4322.730372</td>\n",
       "      <td>8397.010950</td>\n",
       "      <td>74091.469826</td>\n",
       "      <td>73141.645383</td>\n",
       "      <td>6138.401778</td>\n",
       "      <td>345.440421</td>\n",
       "      <td>741.150106</td>\n",
       "      <td>352.982604</td>\n",
       "      <td>1.330167</td>\n",
       "      <td>-0.188001</td>\n",
       "      <td>1.087582</td>\n",
       "      <td>-1.930133</td>\n",
       "      <td>-2.980283</td>\n",
       "      <td>0.600903</td>\n",
       "      <td>2.275550</td>\n",
       "    </tr>\n",
       "    <tr>\n",
       "      <th>2017-01-01</th>\n",
       "      <td>8690.424741</td>\n",
       "      <td>4294.846475</td>\n",
       "      <td>5230.192774</td>\n",
       "      <td>9169.191864</td>\n",
       "      <td>97917.453393</td>\n",
       "      <td>53161.165499</td>\n",
       "      <td>4754.285219</td>\n",
       "      <td>579.887486</td>\n",
       "      <td>931.347150</td>\n",
       "      <td>333.941161</td>\n",
       "      <td>0.480707</td>\n",
       "      <td>0.136255</td>\n",
       "      <td>0.708653</td>\n",
       "      <td>-11.354968</td>\n",
       "      <td>3.402069</td>\n",
       "      <td>-0.872693</td>\n",
       "      <td>2.031928</td>\n",
       "    </tr>\n",
       "    <tr>\n",
       "      <th>2018-01-01</th>\n",
       "      <td>9164.847266</td>\n",
       "      <td>2364.267811</td>\n",
       "      <td>4109.879042</td>\n",
       "      <td>13991.156185</td>\n",
       "      <td>93037.989772</td>\n",
       "      <td>96465.655153</td>\n",
       "      <td>4207.118497</td>\n",
       "      <td>399.109057</td>\n",
       "      <td>604.922123</td>\n",
       "      <td>589.696973</td>\n",
       "      <td>0.716776</td>\n",
       "      <td>0.248388</td>\n",
       "      <td>0.553604</td>\n",
       "      <td>0.729940</td>\n",
       "      <td>0.355900</td>\n",
       "      <td>1.163077</td>\n",
       "      <td>2.003561</td>\n",
       "    </tr>\n",
       "    <tr>\n",
       "      <th>2019-01-01</th>\n",
       "      <td>6682.809783</td>\n",
       "      <td>3095.754393</td>\n",
       "      <td>3460.572095</td>\n",
       "      <td>13047.727864</td>\n",
       "      <td>87272.664710</td>\n",
       "      <td>112524.737309</td>\n",
       "      <td>4057.849945</td>\n",
       "      <td>345.669982</td>\n",
       "      <td>545.952479</td>\n",
       "      <td>385.406833</td>\n",
       "      <td>0.349270</td>\n",
       "      <td>0.201126</td>\n",
       "      <td>0.886368</td>\n",
       "      <td>0.309178</td>\n",
       "      <td>0.220780</td>\n",
       "      <td>0.436496</td>\n",
       "      <td>2.771075</td>\n",
       "    </tr>\n",
       "    <tr>\n",
       "      <th>2020-01-01</th>\n",
       "      <td>10336.912394</td>\n",
       "      <td>3830.721679</td>\n",
       "      <td>6263.762775</td>\n",
       "      <td>11437.534289</td>\n",
       "      <td>75838.150987</td>\n",
       "      <td>84230.425605</td>\n",
       "      <td>4775.886796</td>\n",
       "      <td>237.839104</td>\n",
       "      <td>715.727675</td>\n",
       "      <td>418.357809</td>\n",
       "      <td>0.054513</td>\n",
       "      <td>0.310743</td>\n",
       "      <td>0.388036</td>\n",
       "      <td>-0.162699</td>\n",
       "      <td>0.200350</td>\n",
       "      <td>0.531347</td>\n",
       "      <td>1.928768</td>\n",
       "    </tr>\n",
       "  </tbody>\n",
       "</table>\n",
       "</div>"
      ],
      "text/plain": [
       "               NWP (£m)      SCR (£m)  EoF for SCR (£m)      GWP (£m)  \\\n",
       "Year                                                                    \n",
       "2016-01-01  10685.823360  3812.152794       4322.730372   8397.010950   \n",
       "2017-01-01   8690.424741  4294.846475       5230.192774   9169.191864   \n",
       "2018-01-01   9164.847266  2364.267811       4109.879042  13991.156185   \n",
       "2019-01-01   6682.809783  3095.754393       3460.572095  13047.727864   \n",
       "2020-01-01  10336.912394  3830.721679       6263.762775  11437.534289   \n",
       "\n",
       "            Total assets (£m)  Total liabilities (£m)  \\\n",
       "Year                                                    \n",
       "2016-01-01       74091.469826            73141.645383   \n",
       "2017-01-01       97917.453393            53161.165499   \n",
       "2018-01-01       93037.989772            96465.655153   \n",
       "2019-01-01       87272.664710           112524.737309   \n",
       "2020-01-01       75838.150987            84230.425605   \n",
       "\n",
       "            Excess of assets over liabilities (£m) [= equity]  \\\n",
       "Year                                                            \n",
       "2016-01-01                                        6138.401778   \n",
       "2017-01-01                                        4754.285219   \n",
       "2018-01-01                                        4207.118497   \n",
       "2019-01-01                                        4057.849945   \n",
       "2020-01-01                                        4775.886796   \n",
       "\n",
       "            Gross claims incurred (£m)  \\\n",
       "Year                                     \n",
       "2016-01-01                  345.440421   \n",
       "2017-01-01                  579.887486   \n",
       "2018-01-01                  399.109057   \n",
       "2019-01-01                  345.669982   \n",
       "2020-01-01                  237.839104   \n",
       "\n",
       "            Gross BEL (inc. TPs as whole, pre-TMTP) (£m)  \\\n",
       "Year                                                       \n",
       "2016-01-01                                    741.150106   \n",
       "2017-01-01                                    931.347150   \n",
       "2018-01-01                                    604.922123   \n",
       "2019-01-01                                    545.952479   \n",
       "2020-01-01                                    715.727675   \n",
       "\n",
       "            Net BEL (inc. TPs as a whole, pre-TMTP) (£m)  \\\n",
       "Year                                                       \n",
       "2016-01-01                                    352.982604   \n",
       "2017-01-01                                    333.941161   \n",
       "2018-01-01                                    589.696973   \n",
       "2019-01-01                                    385.406833   \n",
       "2020-01-01                                    418.357809   \n",
       "\n",
       "            Pure net claims ratio  Net expense ratio  Net combined ratio  \\\n",
       "Year                                                                       \n",
       "2016-01-01               1.330167          -0.188001            1.087582   \n",
       "2017-01-01               0.480707           0.136255            0.708653   \n",
       "2018-01-01               0.716776           0.248388            0.553604   \n",
       "2019-01-01               0.349270           0.201126            0.886368   \n",
       "2020-01-01               0.054513           0.310743            0.388036   \n",
       "\n",
       "            Pure gross claims ratio  Gross expense ratio  \\\n",
       "Year                                                       \n",
       "2016-01-01                -1.930133            -2.980283   \n",
       "2017-01-01               -11.354968             3.402069   \n",
       "2018-01-01                 0.729940             0.355900   \n",
       "2019-01-01                 0.309178             0.220780   \n",
       "2020-01-01                -0.162699             0.200350   \n",
       "\n",
       "            Gross combined ratio  SCR coverage ratio  \n",
       "Year                                                  \n",
       "2016-01-01              0.600903            2.275550  \n",
       "2017-01-01             -0.872693            2.031928  \n",
       "2018-01-01              1.163077            2.003561  \n",
       "2019-01-01              0.436496            2.771075  \n",
       "2020-01-01              0.531347            1.928768  "
      ]
     },
     "execution_count": 438,
     "metadata": {},
     "output_type": "execute_result"
    }
   ],
   "source": [
    "df"
   ]
  },
  {
   "cell_type": "code",
   "execution_count": 549,
   "metadata": {},
   "outputs": [
    {
     "name": "stdout",
     "output_type": "stream",
     "text": [
      "Predicted value: [1.99704272]\n",
      "Actual value: 2.77107488041638\n"
     ]
    }
   ],
   "source": [
    "from statsmodels.tsa.arima.model import ARIMA\n",
    "from sklearn.preprocessing import MinMaxScaler\n",
    "\n",
    "# Split the df into training and testing sets using 70-30 split\n",
    "train_df = df[:int(len(df) * 0.7)]\n",
    "test_df = df[int(len(df) * 0.7):]\n",
    "\n",
    "# Extract the SCR column from the train_df\n",
    "scr = train_df[\"SCR coverage ratio\"]\n",
    "\n",
    "# Scale the SCR column using Min-Max Scaler\n",
    "scaler = MinMaxScaler()\n",
    "scr = scaler.fit_transform(np.array(scr).reshape(-1,1))\n",
    "\n",
    "# Train an ARIMA model on the scaled SCR df\n",
    "model = ARIMA(scr, order=(1,1,0))\n",
    "model_fit = model.fit()\n",
    "\n",
    "# Predict the future values of SCR for multiple steps\n",
    "num_steps = 5\n",
    "future_values = model_fit.forecast(steps=num_steps)\n",
    "\n",
    "# Invert the scaled prediction back to its original scale\n",
    "future_values = scaler.inverse_transform(future_values[0].reshape(-1,1))\n",
    "\n",
    "print(\"Predicted value:\", future_values[0])\n",
    "print(\"Actual value:\", test_df[\"SCR coverage ratio\"].iloc[0])\n",
    "\n",
    "# Compare the predictions to the actual values in the test set\n",
    "\n"
   ]
  },
  {
   "cell_type": "code",
   "execution_count": 550,
   "metadata": {},
   "outputs": [],
   "source": [
    "################################### END ###############################"
   ]
  },
  {
   "cell_type": "code",
   "execution_count": null,
   "metadata": {},
   "outputs": [],
   "source": []
  },
  {
   "cell_type": "code",
   "execution_count": null,
   "metadata": {},
   "outputs": [],
   "source": []
  },
  {
   "cell_type": "code",
   "execution_count": null,
   "metadata": {},
   "outputs": [],
   "source": []
  },
  {
   "cell_type": "code",
   "execution_count": null,
   "metadata": {},
   "outputs": [],
   "source": []
  },
  {
   "cell_type": "code",
   "execution_count": null,
   "metadata": {},
   "outputs": [],
   "source": [
    "#big_firms = joined_data[['Firms']][joined_data['Attention']==1].reset_index(drop=True)\n",
    "#data_general_TS = pd.read_excel(file_path,sheet_name='Dataset 1 - General',header=[0,1],index_col=[0])\n",
    "#data_underwriting_TS = pd.read_excel(file_path,sheet_name='Dataset 2 - Underwriting',header=[0,1],index_col=[0])\n",
    "#Time_Series_DG = data_general_TS.loc[big_firms['Firms']]\n",
    "#Time_Series_UW = data_underwriting_TS.loc[big_firms['Firms']]\n",
    "#Joined_Time_Series = Time_Series_DG.merge(Time_Series_UW,left_index=True, right_index=True,how='inner')\n",
    "#Joined_Time_Series_Sums = pd.DataFrame(Joined_Time_Series.mean(axis=0),columns=['Mean Values'])"
   ]
  },
  {
   "cell_type": "code",
   "execution_count": null,
   "metadata": {},
   "outputs": [],
   "source": []
  },
  {
   "cell_type": "code",
   "execution_count": null,
   "metadata": {},
   "outputs": [],
   "source": []
  }
 ],
 "metadata": {
  "kernelspec": {
   "display_name": "Python 3",
   "language": "python",
   "name": "python3"
  },
  "language_info": {
   "codemirror_mode": {
    "name": "ipython",
    "version": 3
   },
   "file_extension": ".py",
   "mimetype": "text/x-python",
   "name": "python",
   "nbconvert_exporter": "python",
   "pygments_lexer": "ipython3",
   "version": "3.10.8"
  },
  "orig_nbformat": 4,
  "vscode": {
   "interpreter": {
    "hash": "a866da9b2b9ea5ac040a6f85cf27cbaf1ec7232527b63b7bdf3f550eb033659d"
   }
  }
 },
 "nbformat": 4,
 "nbformat_minor": 2
}
